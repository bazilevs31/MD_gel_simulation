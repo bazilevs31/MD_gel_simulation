{
 "metadata": {
  "name": "",
  "signature": "sha256:7c10ab2ddccd71c1c1cbfc3206f562f1d52bfc1b13740e789e2de1ddaa247ba9"
 },
 "nbformat": 3,
 "nbformat_minor": 0,
 "worksheets": [
  {
   "cells": [
    {
     "cell_type": "code",
     "collapsed": false,
     "input": [
      "#This is a Ipython notebook for cool stuff\n",
      "name = 'Tom'\n",
      "is_generic_name=name in ('Tom','Dick')\n"
     ],
     "language": "python",
     "metadata": {},
     "outputs": [],
     "prompt_number": 1
    },
    {
     "cell_type": "code",
     "collapsed": false,
     "input": [
      "is_generic_name"
     ],
     "language": "python",
     "metadata": {},
     "outputs": [
      {
       "metadata": {},
       "output_type": "pyout",
       "prompt_number": 2,
       "text": [
        "True"
       ]
      }
     ],
     "prompt_number": 2
    },
    {
     "cell_type": "code",
     "collapsed": false,
     "input": [
      "#use *args for variable number of arguments\n",
      "def print_everything(*args):\n",
      "    for count, thing in enumerate(args):\n",
      "        print '{0}. {1}'.format(count, thing)\n",
      "print_everything(1,2,3,'apple')\n",
      "#use **kwargs for variable number of arguments if they are a dict\n",
      "def print_everything_dict(**kwargs):\n",
      "    for name, value in kwargs.items():\n",
      "        print '{0}={1}'.format(name,value)\n",
      "print_everything_dict(apple='fruit',cherry='berry')\n"
     ],
     "language": "python",
     "metadata": {},
     "outputs": [
      {
       "output_type": "stream",
       "stream": "stdout",
       "text": [
        "0. 1\n",
        "1. 2\n",
        "2. 3\n",
        "3. apple\n",
        "cherry=berry\n",
        "apple=fruit\n"
       ]
      }
     ],
     "prompt_number": 6
    },
    {
     "cell_type": "code",
     "collapsed": false,
     "input": [
      "def get_formatted_user_info(user):\n",
      "# Clear and concise. At a glance I can tell exactly what\n",
      "# the output should be. Note: this string could be returned\n",
      "# directly, but the string itself is too long to fit on the\n",
      "# page.\n",
      "    output = 'Name: {user.name}, Age: {user.age}, Sex: {user.sex}'.format(user=user)\n",
      "    return output"
     ],
     "language": "python",
     "metadata": {},
     "outputs": [],
     "prompt_number": 7
    },
    {
     "cell_type": "code",
     "collapsed": false,
     "input": [
      "# a = dict()\n",
      "a = {'name':'lal', 'age':14,'sex':'m'}\n",
      "get_formatted_user_info(a)"
     ],
     "language": "python",
     "metadata": {},
     "outputs": [
      {
       "ename": "AttributeError",
       "evalue": "'dict' object has no attribute 'name'",
       "output_type": "pyerr",
       "traceback": [
        "\u001b[0;31m---------------------------------------------------------------------------\u001b[0m\n\u001b[0;31mAttributeError\u001b[0m                            Traceback (most recent call last)",
        "\u001b[0;32m<ipython-input-17-865fc5ca825b>\u001b[0m in \u001b[0;36m<module>\u001b[0;34m()\u001b[0m\n\u001b[1;32m      1\u001b[0m \u001b[0;31m# a = dict()\u001b[0m\u001b[0;34m\u001b[0m\u001b[0;34m\u001b[0m\u001b[0m\n\u001b[1;32m      2\u001b[0m \u001b[0ma\u001b[0m \u001b[0;34m=\u001b[0m \u001b[0;34m{\u001b[0m\u001b[0;34m'name'\u001b[0m\u001b[0;34m:\u001b[0m\u001b[0;34m'lal'\u001b[0m\u001b[0;34m,\u001b[0m \u001b[0;34m'age'\u001b[0m\u001b[0;34m:\u001b[0m\u001b[0;36m14\u001b[0m\u001b[0;34m,\u001b[0m\u001b[0;34m'sex'\u001b[0m\u001b[0;34m:\u001b[0m\u001b[0;34m'm'\u001b[0m\u001b[0;34m}\u001b[0m\u001b[0;34m\u001b[0m\u001b[0m\n\u001b[0;32m----> 3\u001b[0;31m \u001b[0mget_formatted_user_info\u001b[0m\u001b[0;34m(\u001b[0m\u001b[0ma\u001b[0m\u001b[0;34m)\u001b[0m\u001b[0;34m\u001b[0m\u001b[0m\n\u001b[0m",
        "\u001b[0;32m<ipython-input-7-ebbe5c2fe787>\u001b[0m in \u001b[0;36mget_formatted_user_info\u001b[0;34m(user)\u001b[0m\n\u001b[1;32m      4\u001b[0m \u001b[0;31m# directly, but the string itself is too long to fit on the\u001b[0m\u001b[0;34m\u001b[0m\u001b[0;34m\u001b[0m\u001b[0m\n\u001b[1;32m      5\u001b[0m \u001b[0;31m# page.\u001b[0m\u001b[0;34m\u001b[0m\u001b[0;34m\u001b[0m\u001b[0m\n\u001b[0;32m----> 6\u001b[0;31m     \u001b[0moutput\u001b[0m \u001b[0;34m=\u001b[0m \u001b[0;34m'Name: {user.name}, Age: {user.age}, Sex: {user.sex}'\u001b[0m\u001b[0;34m.\u001b[0m\u001b[0mformat\u001b[0m\u001b[0;34m(\u001b[0m\u001b[0muser\u001b[0m\u001b[0;34m=\u001b[0m\u001b[0muser\u001b[0m\u001b[0;34m)\u001b[0m\u001b[0;34m\u001b[0m\u001b[0m\n\u001b[0m\u001b[1;32m      7\u001b[0m     \u001b[0;32mreturn\u001b[0m \u001b[0moutput\u001b[0m\u001b[0;34m\u001b[0m\u001b[0m\n",
        "\u001b[0;31mAttributeError\u001b[0m: 'dict' object has no attribute 'name'"
       ]
      }
     ],
     "prompt_number": 17
    },
    {
     "cell_type": "code",
     "collapsed": false,
     "input": [
      "a.items()\n"
     ],
     "language": "python",
     "metadata": {},
     "outputs": [
      {
       "metadata": {},
       "output_type": "pyout",
       "prompt_number": 18,
       "text": [
        "[('age', 14), ('name', 'lal'), ('sex', 'm')]"
       ]
      }
     ],
     "prompt_number": 18
    },
    {
     "cell_type": "code",
     "collapsed": false,
     "input": [
      "a.age()\n"
     ],
     "language": "python",
     "metadata": {},
     "outputs": [
      {
       "ename": "AttributeError",
       "evalue": "'dict' object has no attribute 'age'",
       "output_type": "pyerr",
       "traceback": [
        "\u001b[0;31m---------------------------------------------------------------------------\u001b[0m\n\u001b[0;31mAttributeError\u001b[0m                            Traceback (most recent call last)",
        "\u001b[0;32m<ipython-input-21-e59573dee229>\u001b[0m in \u001b[0;36m<module>\u001b[0;34m()\u001b[0m\n\u001b[0;32m----> 1\u001b[0;31m \u001b[0ma\u001b[0m\u001b[0;34m.\u001b[0m\u001b[0mage\u001b[0m\u001b[0;34m(\u001b[0m\u001b[0;34m)\u001b[0m\u001b[0;34m\u001b[0m\u001b[0m\n\u001b[0m",
        "\u001b[0;31mAttributeError\u001b[0m: 'dict' object has no attribute 'age'"
       ]
      }
     ],
     "prompt_number": 21
    },
    {
     "cell_type": "code",
     "collapsed": false,
     "input": [
      "result_list = ['True', 'False', 'File not found']\n",
      "result_string = ''.join(result_list)"
     ],
     "language": "python",
     "metadata": {},
     "outputs": [],
     "prompt_number": 22
    },
    {
     "cell_type": "code",
     "collapsed": false,
     "input": [
      "result_string"
     ],
     "language": "python",
     "metadata": {},
     "outputs": [
      {
       "metadata": {},
       "output_type": "pyout",
       "prompt_number": 23,
       "text": [
        "'TrueFalseFile not found'"
       ]
      }
     ],
     "prompt_number": 23
    },
    {
     "cell_type": "code",
     "collapsed": false,
     "input": [
      "book_info = '      The Three Musketeers: Alexandre Dumas'\n",
      "formatted_book_info = book_info.strip() # gets rid of spaces\n",
      "formatted_book_info = formatted_book_info.upper() # makes everything capital 'THE THREE MUSKETEERS: ALEXANDRE DUMAS'\n",
      "formatted_book_info = formatted_book_info.replace(':', ' by') #substitues 'THE THREE MUSKETEERS by ALEXANDRE DUMAS'\n",
      "formatted_book_info\n",
      "# oneliner\n",
      "book_info = ' The Three Musketeers: Alexandre Dumas'\n",
      "formatted_book_info = book_info.strip().upper().replace(':', ' by')\n",
      "formatted_book_info"
     ],
     "language": "python",
     "metadata": {},
     "outputs": [
      {
       "metadata": {},
       "output_type": "pyout",
       "prompt_number": 30,
       "text": [
        "'THE THREE MUSKETEERS by ALEXANDRE DUMAS'"
       ]
      }
     ],
     "prompt_number": 30
    },
    {
     "cell_type": "code",
     "collapsed": false,
     "input": [
      "#if we unpacking and some stuff is not being used.\n",
      "list_of_3 = ['l1','l2','l3']\n",
      "(a,b,c) = list_of_3\n",
      "print a,b"
     ],
     "language": "python",
     "metadata": {},
     "outputs": [
      {
       "output_type": "stream",
       "stream": "stdout",
       "text": [
        "l1 l2\n"
       ]
      }
     ],
     "prompt_number": 34
    },
    {
     "cell_type": "code",
     "collapsed": false,
     "input": [
      "(a,b,_) = list_of_3\n",
      "print a,b"
     ],
     "language": "python",
     "metadata": {},
     "outputs": [
      {
       "output_type": "stream",
       "stream": "stdout",
       "text": [
        "l1 l2\n"
       ]
      }
     ],
     "prompt_number": 35
    },
    {
     "cell_type": "code",
     "collapsed": false,
     "input": [
      "#swapping variables\n",
      "foo = 'Foo'\n",
      "bar = 'Bar'\n",
      "(foo,bar) = (bar,foo)\n",
      "print foo,bar"
     ],
     "language": "python",
     "metadata": {},
     "outputs": [
      {
       "output_type": "stream",
       "stream": "stdout",
       "text": [
        "Bar Foo\n"
       ]
      }
     ],
     "prompt_number": 36
    },
    {
     "cell_type": "code",
     "collapsed": false,
     "input": [
      "# os.path working with paths, I should add them to my module path_operations, and use whenever I need"
     ],
     "language": "python",
     "metadata": {},
     "outputs": [],
     "prompt_number": 37
    },
    {
     "cell_type": "code",
     "collapsed": false,
     "input": [
      "import os.path\n",
      "\n",
      "for path in [ '/one/two/three',\n",
      "              '/one/two/three/',\n",
      "              '/',\n",
      "              '.',\n",
      "              '']:\n",
      "    print '\"%s\" : \"%s\"' % (path, os.path.split(path))\n",
      "        "
     ],
     "language": "python",
     "metadata": {},
     "outputs": [
      {
       "output_type": "stream",
       "stream": "stdout",
       "text": [
        "\"/one/two/three\" : \"('/one/two', 'three')\"\n",
        "\"/one/two/three/\" : \"('/one/two/three', '')\"\n",
        "\"/\" : \"('/', '')\"\n",
        "\".\" : \"('', '.')\"\n",
        "\"\" : \"('', '')\"\n"
       ]
      }
     ],
     "prompt_number": 52
    },
    {
     "cell_type": "code",
     "collapsed": false,
     "input": [
      "import os.path\n",
      "\n",
      "for path in [ 'filename.txt', 'filename', '/path/to/filename.txt', '/', '' ]:\n",
      "    print '\"%s\" :' % path, os.path.splitext(path)"
     ],
     "language": "python",
     "metadata": {},
     "outputs": [
      {
       "output_type": "stream",
       "stream": "stdout",
       "text": [
        "\"filename.txt\" : ('filename', '.txt')\n",
        "\"filename\" : ('filename', '')\n",
        "\"/path/to/filename.txt\" : ('/path/to/filename', '.txt')\n",
        "\"/\" : ('/', '')\n",
        "\"\" : ('', '')\n"
       ]
      }
     ],
     "prompt_number": 53
    },
    {
     "cell_type": "code",
     "collapsed": false,
     "input": [
      "import os.path\n",
      "\n",
      "for parts in [ ('one', 'two', 'three'),\n",
      "               ('/', 'one', 'two', 'three'),\n",
      "               ('/one', '/two', '/three'),\n",
      "               ]:\n",
      "    print parts, ':', os.path.join(*parts)"
     ],
     "language": "python",
     "metadata": {},
     "outputs": [
      {
       "output_type": "stream",
       "stream": "stdout",
       "text": [
        "('one', 'two', 'three') : one/two/three\n",
        "('/', 'one', 'two', 'three') : /one/two/three\n",
        "('/one', '/two', '/three') : /three\n"
       ]
      }
     ],
     "prompt_number": 55
    },
    {
     "cell_type": "code",
     "collapsed": false,
     "input": [
      "# Paths assembled from separate strings using join() or with embedded variables might end up with extra separators or relative path components. Use normpath() to clean them up:\n",
      "\n",
      "import os.path\n",
      "\n",
      "for path in [ 'one//two//three', \n",
      "              'one/./two/./three', \n",
      "              'one/../one/two/three',\n",
      "              ]:\n",
      "    print path, ':', os.path.normpath(path)"
     ],
     "language": "python",
     "metadata": {},
     "outputs": [
      {
       "output_type": "stream",
       "stream": "stdout",
       "text": [
        "one//two//three : one/two/three\n",
        "one/./two/./three : one/two/three\n",
        "one/../one/two/three : one/two/three\n"
       ]
      }
     ],
     "prompt_number": 56
    },
    {
     "cell_type": "code",
     "collapsed": false,
     "input": [
      "# learn how to use classes\n",
      "class Customer(object):\n",
      "    \"\"\"A customer of ABC Bank with a checking account. Customers have the\n",
      "    following properties:\n",
      "\n",
      "    Attributes:\n",
      "        name: A string representing the customer's name.\n",
      "        balance: A float tracking the current balance of the customer's account.\n",
      "    \"\"\"\n",
      "\n",
      "#     self - is an object (also instance)\n",
      "#     function(def) - is a function or method\n",
      "    def __init__(self, name, balance=0.0):\n",
      "        \"\"\"Return a Customer object whose name is *name* and starting\n",
      "        balance is *balance*.\"\"\"\n",
      "        self.name = name\n",
      "        self.balance = balance\n",
      "\n",
      "    def withdraw(self, amount):\n",
      "        \"\"\"Return the balance remaining after withdrawing *amount*\n",
      "        dollars.\"\"\"\n",
      "        if amount > self.balance:\n",
      "            raise RuntimeError('Amount greater than available balance.')\n",
      "        self.balance -= amount\n",
      "        return self.balance\n",
      "\n",
      "    def deposit(self, amount):\n",
      "        \"\"\"Return the balance remaining after depositing *amount*\n",
      "        dollars.\"\"\"\n",
      "        self.balance += amount\n",
      "        return self.balance"
     ],
     "language": "python",
     "metadata": {},
     "outputs": [],
     "prompt_number": 41
    },
    {
     "cell_type": "code",
     "collapsed": false,
     "input": [
      "vas = Customer('Vasiliy',100) # now 'vas' is an object, or instance"
     ],
     "language": "python",
     "metadata": {},
     "outputs": [],
     "prompt_number": 45
    },
    {
     "cell_type": "code",
     "collapsed": false,
     "input": [
      "print vas.name\n",
      "\n",
      "print vas.balance\n",
      "print vas.deposit(100)\n",
      "print vas.withdraw(100)\n"
     ],
     "language": "python",
     "metadata": {},
     "outputs": [
      {
       "output_type": "stream",
       "stream": "stdout",
       "text": [
        "Vasiliy\n",
        "100\n",
        "200\n",
        "100\n"
       ]
      }
     ],
     "prompt_number": 50
    },
    {
     "cell_type": "code",
     "collapsed": false,
     "input": [
      "class Car(object):\n",
      "\n",
      "    wheels = 4\n",
      "\n",
      "    def __init__(self, make, model):\n",
      "        self.make = make\n",
      "        self.model = model\n",
      "\n",
      "mustang = Car('Ford', 'Mustang')\n",
      "print mustang.wheels\n",
      "# 4\n",
      "print Car.wheels\n",
      "# 4\n",
      "# , but some attributes of a class hold for all instances in all cases\n",
      "\n",
      "\n",
      "# static methods - don't have access to self\n"
     ],
     "language": "python",
     "metadata": {},
     "outputs": [
      {
       "output_type": "stream",
       "stream": "stdout",
       "text": [
        "4\n",
        "4\n"
       ]
      }
     ],
     "prompt_number": 51
    },
    {
     "cell_type": "markdown",
     "metadata": {},
     "source": [
      "```python\n",
      "\n",
      "# The following would be a valid static method on the Car class:\n",
      "\n",
      "class Car(object):\n",
      "    ...\n",
      "    def make_car_sound():\n",
      "        print 'VRooooommmm!'\n",
      "# No matter what kind of car we have, it always makes the same sound (or so I tell my ten month old daughter). To make it clear that this method should not receive the instance as the first parameter (i.e. self on \"normal\" methods), the @staticmethod decorator is used, turning our definition into:\n",
      "class Car(object):\n",
      "    ...\n",
      "    @staticmethod\n",
      "    def make_car_sound():\n",
      "        print 'VRooooommmm!'\n",
      "```"
     ]
    },
    {
     "cell_type": "code",
     "collapsed": false,
     "input": [],
     "language": "python",
     "metadata": {},
     "outputs": []
    },
    {
     "cell_type": "code",
     "collapsed": false,
     "input": [
      "# rewrite all code using absolute imports of packages, import order of modules"
     ],
     "language": "python",
     "metadata": {},
     "outputs": [],
     "prompt_number": 40
    },
    {
     "cell_type": "code",
     "collapsed": false,
     "input": [
      "# using kwargs for functions"
     ],
     "language": "python",
     "metadata": {},
     "outputs": []
    }
   ],
   "metadata": {}
  }
 ]
}